{
 "cells": [
  {
   "cell_type": "markdown",
   "metadata": {},
   "source": [
    "OUT-OF-DATE!"
   ]
  },
  {
   "cell_type": "code",
   "execution_count": null,
   "metadata": {},
   "outputs": [],
   "source": [
    "# Use Case 1: Open a pre-configured dataset, e.g. ArcticDEM\n",
    "\n",
    "import xarray as xr\n",
    "\n",
    "from smart_geocubes.datasets import ArcticDEM32m\n",
    "\n",
    "ndvi: xr.DataArray = ...\n",
    "\n",
    "adem32 = ArcticDEM32m.load_like(ndvi, \"data/arcticdem/32m/\")\n",
    "\n",
    "assert ndvi.crs == adem32.crs, ndvi.shape == adem32.shape"
   ]
  },
  {
   "cell_type": "code",
   "execution_count": null,
   "metadata": {},
   "outputs": [],
   "source": [
    "# Use Case 2: Open a pre-configured dataset, e.g. ArcticDEM, with a specific bounding box#\n",
    "\n",
    "from odc.geo.geobox import GeoBox\n",
    "\n",
    "from smart_geocubes.datasets import ArcticDEM32m\n",
    "\n",
    "geobox: GeoBox = ...\n",
    "\n",
    "adem32 = ArcticDEM32m.load(geobox, \"data/arcticdem/32m/\")"
   ]
  },
  {
   "cell_type": "code",
   "execution_count": null,
   "metadata": {},
   "outputs": [],
   "source": [
    "# Use Case 3: Configure cache chunks and encoding for an existing dataset\n",
    "\n",
    "from odc.geo.geobox import GeoBox\n",
    "\n",
    "from smart_geocubes.datasets import ArcticDEM32m\n",
    "\n",
    "geobox: GeoBox = ...\n",
    "\n",
    "adem32 = ArcticDEM32m.load(geobox, \"data/arcticdem/32m/\", chunk_size=512, data_vars_encoding={\"zlib\": True})"
   ]
  },
  {
   "cell_type": "code",
   "execution_count": null,
   "metadata": {},
   "outputs": [],
   "source": [
    "# Use Case 4: Define a new dataset with a custom configuration\n",
    "from typing import ClassVar\n",
    "\n",
    "from odc.geo.geobox import GeoBox\n",
    "\n",
    "from smart_geocubes.accessors import STACAccessor\n",
    "\n",
    "\n",
    "class MyDataset(STACAccessor):\n",
    "    \"\"\"Custom STAC dataset.\"\"\"\n",
    "\n",
    "    chunk_size = 512\n",
    "    data_vars_encoding: ClassVar[dict] = {\"zlib\": True}\n",
    "    stac_api_url = \"https://example.com/stac\"\n",
    "    collection = \"my-collection\"\n",
    "\n",
    "\n",
    "geobox: GeoBox = ...\n",
    "\n",
    "adem32 = MyDataset.load(geobox, \"data/arcticdem/32m/\")"
   ]
  }
 ],
 "metadata": {
  "kernelspec": {
   "display_name": ".venv",
   "language": "python",
   "name": "python3"
  },
  "language_info": {
   "name": "python",
   "version": "3.11.10"
  }
 },
 "nbformat": 4,
 "nbformat_minor": 2
}
